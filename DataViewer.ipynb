{
 "cells": [
  {
   "cell_type": "code",
   "execution_count": 2,
   "metadata": {},
   "outputs": [],
   "source": [
    "import os\n",
    "import sys\n",
    "import logging\n",
    "import settings\n"
   ]
  },
  {
   "cell_type": "code",
   "execution_count": 3,
   "metadata": {},
   "outputs": [],
   "source": [
    "stock_code = '005930'  # 삼성전자"
   ]
  },
  {
   "cell_type": "code",
   "execution_count": 4,
   "metadata": {},
   "outputs": [],
   "source": [
    "# 로그 기록\n",
    "log_dir = os.path.join(settings.BASE_DIR, 'logs/%s' % stock_code)\n",
    "timestr = settings.get_time_str()\n",
    "if not os.path.exists('logs/%s' % stock_code):\n",
    "    os.makedirs('logs/%s' % stock_code)\n",
    "file_handler = logging.FileHandler(filename=os.path.join(\n",
    "    log_dir, \"%s_%s.log\" % (stock_code, timestr)), encoding='utf-8')\n",
    "stream_handler = logging.StreamHandler(sys.stdout)\n",
    "file_handler.setLevel(logging.DEBUG)\n",
    "stream_handler.setLevel(logging.INFO)\n",
    "logging.basicConfig(format=\"%(message)s\",\n",
    "                    handlers=[file_handler, stream_handler], level=logging.DEBUG)"
   ]
  },
  {
   "cell_type": "code",
   "execution_count": 5,
   "metadata": {},
   "outputs": [
    {
     "data": {
      "text/html": [
       "<div>\n",
       "<style scoped>\n",
       "    .dataframe tbody tr th:only-of-type {\n",
       "        vertical-align: middle;\n",
       "    }\n",
       "\n",
       "    .dataframe tbody tr th {\n",
       "        vertical-align: top;\n",
       "    }\n",
       "\n",
       "    .dataframe thead th {\n",
       "        text-align: right;\n",
       "    }\n",
       "</style>\n",
       "<table border=\"1\" class=\"dataframe\">\n",
       "  <thead>\n",
       "    <tr style=\"text-align: right;\">\n",
       "      <th></th>\n",
       "      <th>1985-01-04</th>\n",
       "      <th>6,511</th>\n",
       "      <th>6,511.1</th>\n",
       "      <th>6,473</th>\n",
       "      <th>6,473.1</th>\n",
       "      <th>2,232</th>\n",
       "    </tr>\n",
       "  </thead>\n",
       "  <tbody>\n",
       "    <tr>\n",
       "      <th>0</th>\n",
       "      <td>1985-01-05</td>\n",
       "      <td>6,434</td>\n",
       "      <td>6,465</td>\n",
       "      <td>6,427</td>\n",
       "      <td>6,427</td>\n",
       "      <td>2,167</td>\n",
       "    </tr>\n",
       "    <tr>\n",
       "      <th>1</th>\n",
       "      <td>1985-01-07</td>\n",
       "      <td>6,434</td>\n",
       "      <td>6,511</td>\n",
       "      <td>6,427</td>\n",
       "      <td>6,442</td>\n",
       "      <td>15,417</td>\n",
       "    </tr>\n",
       "    <tr>\n",
       "      <th>2</th>\n",
       "      <td>1985-01-08</td>\n",
       "      <td>6,434</td>\n",
       "      <td>6,434</td>\n",
       "      <td>6,358</td>\n",
       "      <td>6,358</td>\n",
       "      <td>16,879</td>\n",
       "    </tr>\n",
       "    <tr>\n",
       "      <th>3</th>\n",
       "      <td>1985-01-09</td>\n",
       "      <td>6,312</td>\n",
       "      <td>6,312</td>\n",
       "      <td>6,090</td>\n",
       "      <td>6,136</td>\n",
       "      <td>6,488</td>\n",
       "    </tr>\n",
       "    <tr>\n",
       "      <th>4</th>\n",
       "      <td>1985-01-10</td>\n",
       "      <td>6,189</td>\n",
       "      <td>6,274</td>\n",
       "      <td>6,189</td>\n",
       "      <td>6,205</td>\n",
       "      <td>9,242</td>\n",
       "    </tr>\n",
       "  </tbody>\n",
       "</table>\n",
       "</div>"
      ],
      "text/plain": [
       "   1985-01-04  6,511 6,511.1  6,473 6,473.1   2,232\n",
       "0  1985-01-05  6,434   6,465  6,427   6,427   2,167\n",
       "1  1985-01-07  6,434   6,511  6,427   6,442  15,417\n",
       "2  1985-01-08  6,434   6,434  6,358   6,358  16,879\n",
       "3  1985-01-09  6,312   6,312  6,090   6,136   6,488\n",
       "4  1985-01-10  6,189   6,274  6,189   6,205   9,242"
      ]
     },
     "execution_count": 5,
     "metadata": {},
     "output_type": "execute_result"
    }
   ],
   "source": [
    "import pandas as pd\n",
    "\n",
    "csv_dt = pd.read_csv(os.path.join(settings.BASE_DIR,'data/chart_data/{}.csv'.format(stock_code)))\n",
    "csv_dt.head()"
   ]
  },
  {
   "cell_type": "code",
   "execution_count": 8,
   "metadata": {},
   "outputs": [],
   "source": [
    "import data_manager\n",
    "from policy_learner import PolicyLearner"
   ]
  },
  {
   "cell_type": "code",
   "execution_count": 12,
   "metadata": {},
   "outputs": [
    {
     "data": {
      "text/plain": [
       "'D:\\\\ML\\\\rltrader\\\\data/chart_data/005930.csv'"
      ]
     },
     "execution_count": 12,
     "metadata": {},
     "output_type": "execute_result"
    }
   ],
   "source": [
    "    # 주식 데이터 준비\n",
    "\n",
    "os.path.join(settings.BASE_DIR,'data/chart_data/{}.csv'.format(stock_code))\n"
   ]
  },
  {
   "cell_type": "code",
   "execution_count": 13,
   "metadata": {},
   "outputs": [
    {
     "data": {
      "text/html": [
       "<div>\n",
       "<style scoped>\n",
       "    .dataframe tbody tr th:only-of-type {\n",
       "        vertical-align: middle;\n",
       "    }\n",
       "\n",
       "    .dataframe tbody tr th {\n",
       "        vertical-align: top;\n",
       "    }\n",
       "\n",
       "    .dataframe thead th {\n",
       "        text-align: right;\n",
       "    }\n",
       "</style>\n",
       "<table border=\"1\" class=\"dataframe\">\n",
       "  <thead>\n",
       "    <tr style=\"text-align: right;\">\n",
       "      <th></th>\n",
       "      <th>date</th>\n",
       "      <th>open</th>\n",
       "      <th>high</th>\n",
       "      <th>low</th>\n",
       "      <th>close</th>\n",
       "      <th>volume</th>\n",
       "    </tr>\n",
       "  </thead>\n",
       "  <tbody>\n",
       "    <tr>\n",
       "      <th>0</th>\n",
       "      <td>1985-01-04</td>\n",
       "      <td>6511</td>\n",
       "      <td>6511</td>\n",
       "      <td>6473</td>\n",
       "      <td>6473</td>\n",
       "      <td>2232</td>\n",
       "    </tr>\n",
       "    <tr>\n",
       "      <th>1</th>\n",
       "      <td>1985-01-05</td>\n",
       "      <td>6434</td>\n",
       "      <td>6465</td>\n",
       "      <td>6427</td>\n",
       "      <td>6427</td>\n",
       "      <td>2167</td>\n",
       "    </tr>\n",
       "    <tr>\n",
       "      <th>2</th>\n",
       "      <td>1985-01-07</td>\n",
       "      <td>6434</td>\n",
       "      <td>6511</td>\n",
       "      <td>6427</td>\n",
       "      <td>6442</td>\n",
       "      <td>15417</td>\n",
       "    </tr>\n",
       "    <tr>\n",
       "      <th>3</th>\n",
       "      <td>1985-01-08</td>\n",
       "      <td>6434</td>\n",
       "      <td>6434</td>\n",
       "      <td>6358</td>\n",
       "      <td>6358</td>\n",
       "      <td>16879</td>\n",
       "    </tr>\n",
       "    <tr>\n",
       "      <th>4</th>\n",
       "      <td>1985-01-09</td>\n",
       "      <td>6312</td>\n",
       "      <td>6312</td>\n",
       "      <td>6090</td>\n",
       "      <td>6136</td>\n",
       "      <td>6488</td>\n",
       "    </tr>\n",
       "  </tbody>\n",
       "</table>\n",
       "</div>"
      ],
      "text/plain": [
       "         date  open  high   low  close  volume\n",
       "0  1985-01-04  6511  6511  6473   6473    2232\n",
       "1  1985-01-05  6434  6465  6427   6427    2167\n",
       "2  1985-01-07  6434  6511  6427   6442   15417\n",
       "3  1985-01-08  6434  6434  6358   6358   16879\n",
       "4  1985-01-09  6312  6312  6090   6136    6488"
      ]
     },
     "execution_count": 13,
     "metadata": {},
     "output_type": "execute_result"
    }
   ],
   "source": [
    "#ohlc\n",
    "chart_data = data_manager.load_chart_data(os.path.join(settings.BASE_DIR,'data/chart_data/{}.csv'.format(stock_code)))\n",
    "chart_data.head()"
   ]
  },
  {
   "cell_type": "code",
   "execution_count": 14,
   "metadata": {},
   "outputs": [
    {
     "data": {
      "text/html": [
       "<div>\n",
       "<style scoped>\n",
       "    .dataframe tbody tr th:only-of-type {\n",
       "        vertical-align: middle;\n",
       "    }\n",
       "\n",
       "    .dataframe tbody tr th {\n",
       "        vertical-align: top;\n",
       "    }\n",
       "\n",
       "    .dataframe thead th {\n",
       "        text-align: right;\n",
       "    }\n",
       "</style>\n",
       "<table border=\"1\" class=\"dataframe\">\n",
       "  <thead>\n",
       "    <tr style=\"text-align: right;\">\n",
       "      <th></th>\n",
       "      <th>date</th>\n",
       "      <th>open</th>\n",
       "      <th>high</th>\n",
       "      <th>low</th>\n",
       "      <th>close</th>\n",
       "      <th>volume</th>\n",
       "      <th>close_ma5</th>\n",
       "      <th>volume_ma5</th>\n",
       "      <th>close_ma10</th>\n",
       "      <th>volume_ma10</th>\n",
       "      <th>close_ma20</th>\n",
       "      <th>volume_ma20</th>\n",
       "      <th>close_ma60</th>\n",
       "      <th>volume_ma60</th>\n",
       "      <th>close_ma120</th>\n",
       "      <th>volume_ma120</th>\n",
       "    </tr>\n",
       "  </thead>\n",
       "  <tbody>\n",
       "    <tr>\n",
       "      <th>0</th>\n",
       "      <td>1985-01-04</td>\n",
       "      <td>6511</td>\n",
       "      <td>6511</td>\n",
       "      <td>6473</td>\n",
       "      <td>6473</td>\n",
       "      <td>2232</td>\n",
       "      <td>NaN</td>\n",
       "      <td>NaN</td>\n",
       "      <td>NaN</td>\n",
       "      <td>NaN</td>\n",
       "      <td>NaN</td>\n",
       "      <td>NaN</td>\n",
       "      <td>NaN</td>\n",
       "      <td>NaN</td>\n",
       "      <td>NaN</td>\n",
       "      <td>NaN</td>\n",
       "    </tr>\n",
       "    <tr>\n",
       "      <th>1</th>\n",
       "      <td>1985-01-05</td>\n",
       "      <td>6434</td>\n",
       "      <td>6465</td>\n",
       "      <td>6427</td>\n",
       "      <td>6427</td>\n",
       "      <td>2167</td>\n",
       "      <td>NaN</td>\n",
       "      <td>NaN</td>\n",
       "      <td>NaN</td>\n",
       "      <td>NaN</td>\n",
       "      <td>NaN</td>\n",
       "      <td>NaN</td>\n",
       "      <td>NaN</td>\n",
       "      <td>NaN</td>\n",
       "      <td>NaN</td>\n",
       "      <td>NaN</td>\n",
       "    </tr>\n",
       "    <tr>\n",
       "      <th>2</th>\n",
       "      <td>1985-01-07</td>\n",
       "      <td>6434</td>\n",
       "      <td>6511</td>\n",
       "      <td>6427</td>\n",
       "      <td>6442</td>\n",
       "      <td>15417</td>\n",
       "      <td>NaN</td>\n",
       "      <td>NaN</td>\n",
       "      <td>NaN</td>\n",
       "      <td>NaN</td>\n",
       "      <td>NaN</td>\n",
       "      <td>NaN</td>\n",
       "      <td>NaN</td>\n",
       "      <td>NaN</td>\n",
       "      <td>NaN</td>\n",
       "      <td>NaN</td>\n",
       "    </tr>\n",
       "    <tr>\n",
       "      <th>3</th>\n",
       "      <td>1985-01-08</td>\n",
       "      <td>6434</td>\n",
       "      <td>6434</td>\n",
       "      <td>6358</td>\n",
       "      <td>6358</td>\n",
       "      <td>16879</td>\n",
       "      <td>NaN</td>\n",
       "      <td>NaN</td>\n",
       "      <td>NaN</td>\n",
       "      <td>NaN</td>\n",
       "      <td>NaN</td>\n",
       "      <td>NaN</td>\n",
       "      <td>NaN</td>\n",
       "      <td>NaN</td>\n",
       "      <td>NaN</td>\n",
       "      <td>NaN</td>\n",
       "    </tr>\n",
       "    <tr>\n",
       "      <th>4</th>\n",
       "      <td>1985-01-09</td>\n",
       "      <td>6312</td>\n",
       "      <td>6312</td>\n",
       "      <td>6090</td>\n",
       "      <td>6136</td>\n",
       "      <td>6488</td>\n",
       "      <td>6367.2</td>\n",
       "      <td>8636.6</td>\n",
       "      <td>NaN</td>\n",
       "      <td>NaN</td>\n",
       "      <td>NaN</td>\n",
       "      <td>NaN</td>\n",
       "      <td>NaN</td>\n",
       "      <td>NaN</td>\n",
       "      <td>NaN</td>\n",
       "      <td>NaN</td>\n",
       "    </tr>\n",
       "  </tbody>\n",
       "</table>\n",
       "</div>"
      ],
      "text/plain": [
       "         date  open  high   low  close  volume  close_ma5  volume_ma5  close_ma10  volume_ma10  close_ma20  volume_ma20  close_ma60  volume_ma60  close_ma120  volume_ma120\n",
       "0  1985-01-04  6511  6511  6473   6473    2232        NaN         NaN         NaN          NaN         NaN          NaN         NaN          NaN          NaN           NaN\n",
       "1  1985-01-05  6434  6465  6427   6427    2167        NaN         NaN         NaN          NaN         NaN          NaN         NaN          NaN          NaN           NaN\n",
       "2  1985-01-07  6434  6511  6427   6442   15417        NaN         NaN         NaN          NaN         NaN          NaN         NaN          NaN          NaN           NaN\n",
       "3  1985-01-08  6434  6434  6358   6358   16879        NaN         NaN         NaN          NaN         NaN          NaN         NaN          NaN          NaN           NaN\n",
       "4  1985-01-09  6312  6312  6090   6136    6488     6367.2      8636.6         NaN          NaN         NaN          NaN         NaN          NaN          NaN           NaN"
      ]
     },
     "execution_count": 14,
     "metadata": {},
     "output_type": "execute_result"
    }
   ],
   "source": [
    "#이동평균\n",
    "prep_data = data_manager.preprocess(chart_data)\n",
    "prep_data.head()"
   ]
  },
  {
   "cell_type": "code",
   "execution_count": 15,
   "metadata": {},
   "outputs": [
    {
     "data": {
      "text/html": [
       "<div>\n",
       "<style scoped>\n",
       "    .dataframe tbody tr th:only-of-type {\n",
       "        vertical-align: middle;\n",
       "    }\n",
       "\n",
       "    .dataframe tbody tr th {\n",
       "        vertical-align: top;\n",
       "    }\n",
       "\n",
       "    .dataframe thead th {\n",
       "        text-align: right;\n",
       "    }\n",
       "</style>\n",
       "<table border=\"1\" class=\"dataframe\">\n",
       "  <thead>\n",
       "    <tr style=\"text-align: right;\">\n",
       "      <th></th>\n",
       "      <th>date</th>\n",
       "      <th>open</th>\n",
       "      <th>high</th>\n",
       "      <th>low</th>\n",
       "      <th>close</th>\n",
       "      <th>volume</th>\n",
       "      <th>close_ma5</th>\n",
       "      <th>volume_ma5</th>\n",
       "      <th>close_ma10</th>\n",
       "      <th>volume_ma10</th>\n",
       "      <th>close_ma20</th>\n",
       "      <th>volume_ma20</th>\n",
       "      <th>close_ma60</th>\n",
       "      <th>volume_ma60</th>\n",
       "      <th>close_ma120</th>\n",
       "      <th>volume_ma120</th>\n",
       "      <th>open_lastclose_ratio</th>\n",
       "      <th>high_close_ratio</th>\n",
       "      <th>low_close_ratio</th>\n",
       "      <th>close_lastclose_ratio</th>\n",
       "      <th>volume_lastvolume_ratio</th>\n",
       "      <th>close_ma5_ratio</th>\n",
       "      <th>volume_ma5_ratio</th>\n",
       "      <th>close_ma10_ratio</th>\n",
       "      <th>volume_ma10_ratio</th>\n",
       "      <th>close_ma20_ratio</th>\n",
       "      <th>volume_ma20_ratio</th>\n",
       "      <th>close_ma60_ratio</th>\n",
       "      <th>volume_ma60_ratio</th>\n",
       "      <th>close_ma120_ratio</th>\n",
       "      <th>volume_ma120_ratio</th>\n",
       "    </tr>\n",
       "  </thead>\n",
       "  <tbody>\n",
       "    <tr>\n",
       "      <th>0</th>\n",
       "      <td>1985-01-04</td>\n",
       "      <td>6511</td>\n",
       "      <td>6511</td>\n",
       "      <td>6473</td>\n",
       "      <td>6473</td>\n",
       "      <td>2232</td>\n",
       "      <td>NaN</td>\n",
       "      <td>NaN</td>\n",
       "      <td>NaN</td>\n",
       "      <td>NaN</td>\n",
       "      <td>NaN</td>\n",
       "      <td>NaN</td>\n",
       "      <td>NaN</td>\n",
       "      <td>NaN</td>\n",
       "      <td>NaN</td>\n",
       "      <td>NaN</td>\n",
       "      <td>0.000000</td>\n",
       "      <td>0.005871</td>\n",
       "      <td>0.000000</td>\n",
       "      <td>0.000000</td>\n",
       "      <td>0.000000</td>\n",
       "      <td>NaN</td>\n",
       "      <td>NaN</td>\n",
       "      <td>NaN</td>\n",
       "      <td>NaN</td>\n",
       "      <td>NaN</td>\n",
       "      <td>NaN</td>\n",
       "      <td>NaN</td>\n",
       "      <td>NaN</td>\n",
       "      <td>NaN</td>\n",
       "      <td>NaN</td>\n",
       "    </tr>\n",
       "    <tr>\n",
       "      <th>1</th>\n",
       "      <td>1985-01-05</td>\n",
       "      <td>6434</td>\n",
       "      <td>6465</td>\n",
       "      <td>6427</td>\n",
       "      <td>6427</td>\n",
       "      <td>2167</td>\n",
       "      <td>NaN</td>\n",
       "      <td>NaN</td>\n",
       "      <td>NaN</td>\n",
       "      <td>NaN</td>\n",
       "      <td>NaN</td>\n",
       "      <td>NaN</td>\n",
       "      <td>NaN</td>\n",
       "      <td>NaN</td>\n",
       "      <td>NaN</td>\n",
       "      <td>NaN</td>\n",
       "      <td>-0.006025</td>\n",
       "      <td>0.005913</td>\n",
       "      <td>0.000000</td>\n",
       "      <td>-0.007106</td>\n",
       "      <td>-0.029122</td>\n",
       "      <td>NaN</td>\n",
       "      <td>NaN</td>\n",
       "      <td>NaN</td>\n",
       "      <td>NaN</td>\n",
       "      <td>NaN</td>\n",
       "      <td>NaN</td>\n",
       "      <td>NaN</td>\n",
       "      <td>NaN</td>\n",
       "      <td>NaN</td>\n",
       "      <td>NaN</td>\n",
       "    </tr>\n",
       "    <tr>\n",
       "      <th>2</th>\n",
       "      <td>1985-01-07</td>\n",
       "      <td>6434</td>\n",
       "      <td>6511</td>\n",
       "      <td>6427</td>\n",
       "      <td>6442</td>\n",
       "      <td>15417</td>\n",
       "      <td>NaN</td>\n",
       "      <td>NaN</td>\n",
       "      <td>NaN</td>\n",
       "      <td>NaN</td>\n",
       "      <td>NaN</td>\n",
       "      <td>NaN</td>\n",
       "      <td>NaN</td>\n",
       "      <td>NaN</td>\n",
       "      <td>NaN</td>\n",
       "      <td>NaN</td>\n",
       "      <td>0.001089</td>\n",
       "      <td>0.010711</td>\n",
       "      <td>-0.002328</td>\n",
       "      <td>0.002334</td>\n",
       "      <td>6.114444</td>\n",
       "      <td>NaN</td>\n",
       "      <td>NaN</td>\n",
       "      <td>NaN</td>\n",
       "      <td>NaN</td>\n",
       "      <td>NaN</td>\n",
       "      <td>NaN</td>\n",
       "      <td>NaN</td>\n",
       "      <td>NaN</td>\n",
       "      <td>NaN</td>\n",
       "      <td>NaN</td>\n",
       "    </tr>\n",
       "    <tr>\n",
       "      <th>3</th>\n",
       "      <td>1985-01-08</td>\n",
       "      <td>6434</td>\n",
       "      <td>6434</td>\n",
       "      <td>6358</td>\n",
       "      <td>6358</td>\n",
       "      <td>16879</td>\n",
       "      <td>NaN</td>\n",
       "      <td>NaN</td>\n",
       "      <td>NaN</td>\n",
       "      <td>NaN</td>\n",
       "      <td>NaN</td>\n",
       "      <td>NaN</td>\n",
       "      <td>NaN</td>\n",
       "      <td>NaN</td>\n",
       "      <td>NaN</td>\n",
       "      <td>NaN</td>\n",
       "      <td>-0.001242</td>\n",
       "      <td>0.011953</td>\n",
       "      <td>0.000000</td>\n",
       "      <td>-0.013039</td>\n",
       "      <td>0.094830</td>\n",
       "      <td>NaN</td>\n",
       "      <td>NaN</td>\n",
       "      <td>NaN</td>\n",
       "      <td>NaN</td>\n",
       "      <td>NaN</td>\n",
       "      <td>NaN</td>\n",
       "      <td>NaN</td>\n",
       "      <td>NaN</td>\n",
       "      <td>NaN</td>\n",
       "      <td>NaN</td>\n",
       "    </tr>\n",
       "    <tr>\n",
       "      <th>4</th>\n",
       "      <td>1985-01-09</td>\n",
       "      <td>6312</td>\n",
       "      <td>6312</td>\n",
       "      <td>6090</td>\n",
       "      <td>6136</td>\n",
       "      <td>6488</td>\n",
       "      <td>6367.2</td>\n",
       "      <td>8636.6</td>\n",
       "      <td>NaN</td>\n",
       "      <td>NaN</td>\n",
       "      <td>NaN</td>\n",
       "      <td>NaN</td>\n",
       "      <td>NaN</td>\n",
       "      <td>NaN</td>\n",
       "      <td>NaN</td>\n",
       "      <td>NaN</td>\n",
       "      <td>-0.007235</td>\n",
       "      <td>0.028683</td>\n",
       "      <td>-0.007497</td>\n",
       "      <td>-0.034917</td>\n",
       "      <td>-0.615617</td>\n",
       "      <td>-0.036311</td>\n",
       "      <td>-0.248778</td>\n",
       "      <td>NaN</td>\n",
       "      <td>NaN</td>\n",
       "      <td>NaN</td>\n",
       "      <td>NaN</td>\n",
       "      <td>NaN</td>\n",
       "      <td>NaN</td>\n",
       "      <td>NaN</td>\n",
       "      <td>NaN</td>\n",
       "    </tr>\n",
       "  </tbody>\n",
       "</table>\n",
       "</div>"
      ],
      "text/plain": [
       "         date  open  high   low  close  volume  close_ma5  volume_ma5  close_ma10  volume_ma10  close_ma20  volume_ma20  close_ma60  volume_ma60  close_ma120  volume_ma120  open_lastclose_ratio  high_close_ratio  low_close_ratio  close_lastclose_ratio  volume_lastvolume_ratio  close_ma5_ratio  volume_ma5_ratio  close_ma10_ratio  volume_ma10_ratio  close_ma20_ratio  volume_ma20_ratio  close_ma60_ratio  volume_ma60_ratio  close_ma120_ratio  volume_ma120_ratio\n",
       "0  1985-01-04  6511  6511  6473   6473    2232        NaN         NaN         NaN          NaN         NaN          NaN         NaN          NaN          NaN           NaN              0.000000          0.005871         0.000000               0.000000                 0.000000              NaN               NaN               NaN                NaN               NaN                NaN               NaN                NaN                NaN                 NaN\n",
       "1  1985-01-05  6434  6465  6427   6427    2167        NaN         NaN         NaN          NaN         NaN          NaN         NaN          NaN          NaN           NaN             -0.006025          0.005913         0.000000              -0.007106                -0.029122              NaN               NaN               NaN                NaN               NaN                NaN               NaN                NaN                NaN                 NaN\n",
       "2  1985-01-07  6434  6511  6427   6442   15417        NaN         NaN         NaN          NaN         NaN          NaN         NaN          NaN          NaN           NaN              0.001089          0.010711        -0.002328               0.002334                 6.114444              NaN               NaN               NaN                NaN               NaN                NaN               NaN                NaN                NaN                 NaN\n",
       "3  1985-01-08  6434  6434  6358   6358   16879        NaN         NaN         NaN          NaN         NaN          NaN         NaN          NaN          NaN           NaN             -0.001242          0.011953         0.000000              -0.013039                 0.094830              NaN               NaN               NaN                NaN               NaN                NaN               NaN                NaN                NaN                 NaN\n",
       "4  1985-01-09  6312  6312  6090   6136    6488     6367.2      8636.6         NaN          NaN         NaN          NaN         NaN          NaN          NaN           NaN             -0.007235          0.028683        -0.007497              -0.034917                -0.615617        -0.036311         -0.248778               NaN                NaN               NaN                NaN               NaN                NaN                NaN                 NaN"
      ]
     },
     "execution_count": 15,
     "metadata": {},
     "output_type": "execute_result"
    }
   ],
   "source": [
    "#주가와 거래양의 비율(에이전트의 상태)\n",
    "training_data = data_manager.build_training_data(prep_data)\n",
    "training_data.head()"
   ]
  },
  {
   "cell_type": "code",
   "execution_count": 17,
   "metadata": {},
   "outputs": [
    {
     "data": {
      "text/plain": [
       "8826"
      ]
     },
     "execution_count": 17,
     "metadata": {},
     "output_type": "execute_result"
    }
   ],
   "source": [
    "len(training_data.index)"
   ]
  },
  {
   "cell_type": "code",
   "execution_count": 18,
   "metadata": {},
   "outputs": [
    {
     "data": {
      "text/plain": [
       "243"
      ]
     },
     "execution_count": 18,
     "metadata": {},
     "output_type": "execute_result"
    }
   ],
   "source": [
    "    # 기간 필터링\n",
    "training_data = training_data[(training_data['date'] >= '2017-01-01') &\n",
    "                                  (training_data['date'] <= '2017-12-31')]\n",
    "len(training_data.index)\n",
    "    "
   ]
  },
  {
   "cell_type": "code",
   "execution_count": 19,
   "metadata": {},
   "outputs": [
    {
     "data": {
      "text/plain": [
       "243"
      ]
     },
     "execution_count": 19,
     "metadata": {},
     "output_type": "execute_result"
    }
   ],
   "source": [
    "training_data = training_data.dropna()\n",
    "len(training_data.index)"
   ]
  },
  {
   "cell_type": "code",
   "execution_count": 22,
   "metadata": {},
   "outputs": [
    {
     "data": {
      "text/plain": [
       "31"
      ]
     },
     "execution_count": 22,
     "metadata": {},
     "output_type": "execute_result"
    }
   ],
   "source": [
    "len(training_data.columns)"
   ]
  },
  {
   "cell_type": "code",
   "execution_count": 24,
   "metadata": {},
   "outputs": [],
   "source": [
    "# 차트 데이터 분리\n",
    "features_chart_data = ['date', 'open', 'high', 'low', 'close', 'volume']\n",
    "chart_data = training_data[features_chart_data]"
   ]
  },
  {
   "cell_type": "code",
   "execution_count": 28,
   "metadata": {},
   "outputs": [
    {
     "data": {
      "text/plain": [
       "(243,             date     open     high      low    close  volume\n",
       " 8551  2017-01-02  1799000  1812000  1794000  1805000   93012\n",
       " 8552  2017-01-03  1814000  1831000  1801000  1824000  147153\n",
       " 8553  2017-01-04  1825000  1826000  1805000  1808000  159435\n",
       " 8554  2017-01-05  1803000  1803000  1777000  1778000  219349\n",
       " 8555  2017-01-06  1809000  1822000  1802000  1810000  177619)"
      ]
     },
     "execution_count": 28,
     "metadata": {},
     "output_type": "execute_result"
    }
   ],
   "source": [
    "chart_data.head() "
   ]
  },
  {
   "cell_type": "code",
   "execution_count": 29,
   "metadata": {},
   "outputs": [
    {
     "data": {
      "text/plain": [
       "243"
      ]
     },
     "execution_count": 29,
     "metadata": {},
     "output_type": "execute_result"
    }
   ],
   "source": [
    "len(chart_data.index)"
   ]
  },
  {
   "cell_type": "code",
   "execution_count": 30,
   "metadata": {},
   "outputs": [],
   "source": [
    "# 학습 데이터 분리\n",
    "features_training_data = [\n",
    "        'open_lastclose_ratio', 'high_close_ratio', 'low_close_ratio',\n",
    "        'close_lastclose_ratio', 'volume_lastvolume_ratio',\n",
    "        'close_ma5_ratio', 'volume_ma5_ratio',\n",
    "        'close_ma10_ratio', 'volume_ma10_ratio',\n",
    "        'close_ma20_ratio', 'volume_ma20_ratio',\n",
    "        'close_ma60_ratio', 'volume_ma60_ratio',\n",
    "        'close_ma120_ratio', 'volume_ma120_ratio'\n",
    "    ]\n",
    "training_data = training_data[features_training_data]\n"
   ]
  },
  {
   "cell_type": "code",
   "execution_count": 31,
   "metadata": {},
   "outputs": [
    {
     "data": {
      "text/plain": [
       "15"
      ]
     },
     "execution_count": 31,
     "metadata": {},
     "output_type": "execute_result"
    }
   ],
   "source": [
    "len(training_data.columns)"
   ]
  },
  {
   "cell_type": "code",
   "execution_count": 33,
   "metadata": {},
   "outputs": [
    {
     "data": {
      "text/plain": [
       "((243, 15), 15)"
      ]
     },
     "execution_count": 33,
     "metadata": {},
     "output_type": "execute_result"
    }
   ],
   "source": [
    "training_data.shape , training_data.shape[1] "
   ]
  },
  {
   "cell_type": "code",
   "execution_count": 35,
   "metadata": {},
   "outputs": [],
   "source": [
    "    def _get_batch(self, memory, batch_size, discount_factor, delayed_reward):\n",
    "        num_features = 17\n",
    "        x = np.zeros((batch_size, 1, num_features))\n",
    "        y = np.full((batch_size, 2), 0.5)\n",
    "\n",
    "        for i, (sample, action, reward) in enumerate(\n",
    "                reversed(memory[-batch_size:])):\n",
    "            x[i] = np.array(sample).reshape((-1, 1, num_features))\n",
    "            y[i, action] = (delayed_reward + 1) / 2\n",
    "            if discount_factor > 0:\n",
    "                y[i, action] *= discount_factor ** i\n",
    "        return x, y"
   ]
  },
  {
   "cell_type": "code",
   "execution_count": 38,
   "metadata": {},
   "outputs": [
    {
     "ename": "NameError",
     "evalue": "name 'memory_action' is not defined",
     "output_type": "error",
     "traceback": [
      "\u001b[1;31m---------------------------------------------------------------------------\u001b[0m",
      "\u001b[1;31mNameError\u001b[0m                                 Traceback (most recent call last)",
      "\u001b[1;32m<ipython-input-38-ecd11652a450>\u001b[0m in \u001b[0;36m<module>\u001b[1;34m\u001b[0m\n\u001b[0;32m      6\u001b[0m                     \u001b[0mmemory_action\u001b[0m\u001b[1;33m[\u001b[0m\u001b[0mi\u001b[0m\u001b[1;33m]\u001b[0m\u001b[1;33m,\u001b[0m\u001b[1;33m\u001b[0m\u001b[1;33m\u001b[0m\u001b[0m\n\u001b[0;32m      7\u001b[0m                     memory_reward[i])\n\u001b[1;32m----> 8\u001b[1;33m                     \u001b[1;32mfor\u001b[0m \u001b[0mi\u001b[0m \u001b[1;32min\u001b[0m \u001b[0mlist\u001b[0m\u001b[1;33m(\u001b[0m\u001b[0mrange\u001b[0m\u001b[1;33m(\u001b[0m\u001b[0mlen\u001b[0m\u001b[1;33m(\u001b[0m\u001b[0mmemory_action\u001b[0m\u001b[1;33m)\u001b[0m\u001b[1;33m)\u001b[0m\u001b[1;33m)\u001b[0m\u001b[1;33m[\u001b[0m\u001b[1;33m-\u001b[0m\u001b[0mmax_memory\u001b[0m\u001b[1;33m:\u001b[0m\u001b[1;33m]\u001b[0m\u001b[1;33m\u001b[0m\u001b[1;33m\u001b[0m\u001b[0m\n\u001b[0m\u001b[0;32m      9\u001b[0m                 ]\n",
      "\u001b[1;31mNameError\u001b[0m: name 'memory_action' is not defined"
     ]
    }
   ],
   "source": [
    "discount_factor=0\n",
    "batch_size = 0\n",
    "delayed_reward = 0\n",
    "memory = [(\n",
    "                    memory_sample[i],\n",
    "                    memory_action[i],\n",
    "                    memory_reward[i])\n",
    "                    for i in list(range(len(memory_action)))[-max_memory:]\n",
    "                ]"
   ]
  },
  {
   "cell_type": "code",
   "execution_count": 39,
   "metadata": {},
   "outputs": [
    {
     "ename": "NameError",
     "evalue": "name 'memory' is not defined",
     "output_type": "error",
     "traceback": [
      "\u001b[1;31m---------------------------------------------------------------------------\u001b[0m",
      "\u001b[1;31mNameError\u001b[0m                                 Traceback (most recent call last)",
      "\u001b[1;32m<ipython-input-39-c6c9681f6927>\u001b[0m in \u001b[0;36m<module>\u001b[1;34m\u001b[0m\n\u001b[1;32m----> 1\u001b[1;33m \u001b[0mx\u001b[0m\u001b[1;33m,\u001b[0m \u001b[0my\u001b[0m \u001b[1;33m=\u001b[0m \u001b[0m_get_batch\u001b[0m\u001b[1;33m(\u001b[0m\u001b[0mmemory\u001b[0m\u001b[1;33m,\u001b[0m \u001b[0mbatch_size\u001b[0m\u001b[1;33m,\u001b[0m \u001b[0mdiscount_factor\u001b[0m\u001b[1;33m,\u001b[0m \u001b[0mdelayed_reward\u001b[0m\u001b[1;33m)\u001b[0m\u001b[1;33m\u001b[0m\u001b[1;33m\u001b[0m\u001b[0m\n\u001b[0m",
      "\u001b[1;31mNameError\u001b[0m: name 'memory' is not defined"
     ]
    }
   ],
   "source": [
    "x, y = _get_batch(memory, batch_size, discount_factor, delayed_reward)"
   ]
  },
  {
   "cell_type": "markdown",
   "metadata": {},
   "source": [
    "# #리스트 내포(List comprehension)"
   ]
  },
  {
   "cell_type": "code",
   "execution_count": 44,
   "metadata": {},
   "outputs": [
    {
     "data": {
      "text/plain": [
       "[(1, 2), (1, 2), (1, 2), (1, 2), (1, 2)]"
      ]
     },
     "execution_count": 44,
     "metadata": {},
     "output_type": "execute_result"
    }
   ],
   "source": [
    "[(1,2) for i in list(range(5))[-60:]]"
   ]
  },
  {
   "cell_type": "code",
   "execution_count": 45,
   "metadata": {},
   "outputs": [
    {
     "data": {
      "text/plain": [
       "[(1, 2), (1, 2), (1, 2), (1, 2), (1, 2)]"
      ]
     },
     "execution_count": 45,
     "metadata": {},
     "output_type": "execute_result"
    }
   ],
   "source": [
    "[(1,2) for i in list(range(5))]"
   ]
  },
  {
   "cell_type": "code",
   "execution_count": 46,
   "metadata": {},
   "outputs": [
    {
     "data": {
      "text/plain": [
       "[2,\n",
       " 4,\n",
       " 6,\n",
       " 8,\n",
       " 10,\n",
       " 12,\n",
       " 14,\n",
       " 16,\n",
       " 18,\n",
       " 3,\n",
       " 6,\n",
       " 9,\n",
       " 12,\n",
       " 15,\n",
       " 18,\n",
       " 21,\n",
       " 24,\n",
       " 27,\n",
       " 4,\n",
       " 8,\n",
       " 12,\n",
       " 16,\n",
       " 20,\n",
       " 24,\n",
       " 28,\n",
       " 32,\n",
       " 36,\n",
       " 5,\n",
       " 10,\n",
       " 15,\n",
       " 20,\n",
       " 25,\n",
       " 30,\n",
       " 35,\n",
       " 40,\n",
       " 45,\n",
       " 6,\n",
       " 12,\n",
       " 18,\n",
       " 24,\n",
       " 30,\n",
       " 36,\n",
       " 42,\n",
       " 48,\n",
       " 54,\n",
       " 7,\n",
       " 14,\n",
       " 21,\n",
       " 28,\n",
       " 35,\n",
       " 42,\n",
       " 49,\n",
       " 56,\n",
       " 63,\n",
       " 8,\n",
       " 16,\n",
       " 24,\n",
       " 32,\n",
       " 40,\n",
       " 48,\n",
       " 56,\n",
       " 64,\n",
       " 72,\n",
       " 9,\n",
       " 18,\n",
       " 27,\n",
       " 36,\n",
       " 45,\n",
       " 54,\n",
       " 63,\n",
       " 72,\n",
       " 81]"
      ]
     },
     "execution_count": 46,
     "metadata": {},
     "output_type": "execute_result"
    }
   ],
   "source": [
    "gugudan = [x*y for x in range(2,10)\n",
    "             for y in range(1,10)]\n",
    "gugudan"
   ]
  },
  {
   "cell_type": "code",
   "execution_count": null,
   "metadata": {},
   "outputs": [],
   "source": []
  }
 ],
 "metadata": {
  "kernelspec": {
   "display_name": "Python 3",
   "language": "python",
   "name": "python3"
  },
  "language_info": {
   "codemirror_mode": {
    "name": "ipython",
    "version": 3
   },
   "file_extension": ".py",
   "mimetype": "text/x-python",
   "name": "python",
   "nbconvert_exporter": "python",
   "pygments_lexer": "ipython3",
   "version": "3.7.3"
  }
 },
 "nbformat": 4,
 "nbformat_minor": 2
}
